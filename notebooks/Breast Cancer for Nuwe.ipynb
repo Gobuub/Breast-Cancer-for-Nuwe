{
 "cells": [
  {
   "cell_type": "code",
   "execution_count": 1,
   "id": "4fe1229e",
   "metadata": {},
   "outputs": [],
   "source": [
    "import pandas as pd\n",
    "import numpy as np\n",
    "\n",
    "from tqdm import tqdm\n",
    "\n",
    "import nuwe_resources.ml_lib as ml\n",
    "\n",
    "from sklearn.preprocessing import MinMaxScaler, RobustScaler\n",
    "from imblearn.over_sampling import SMOTE\n",
    "from sklearn.model_selection import train_test_split\n",
    "\n",
    "from sklearn.ensemble import RandomForestClassifier, AdaBoostClassifier\n",
    "from sklearn.linear_model import LogisticRegression\n",
    "from xgboost import XGBClassifier, XGBRFClassifier\n",
    "from lightgbm import LGBMClassifier\n",
    "from catboost import CatBoostClassifier\n",
    "from sklearn.svm import SVC\n",
    "\n",
    "#from sklearn.metrics import f1_score, confusion_matrix, cohen_kappa_score,\\\n",
    "#                            accuracy_score, precision_score, recall_score, make_scorer\n",
    "\n",
    "#import seaborn as sns\n",
    "\n",
    "\n",
    "#pd.set_option('display.max_columns', None)\n",
    "#pd.set_option('display.max_rows', None)\n"
   ]
  },
  {
   "cell_type": "code",
   "execution_count": 2,
   "id": "117ed8f9",
   "metadata": {},
   "outputs": [],
   "source": [
    "train = pd.read_csv('../data/train.csv')\n",
    "test = pd.read_csv('../data/test.csv')"
   ]
  },
  {
   "cell_type": "code",
   "execution_count": 3,
   "id": "6d813c4b",
   "metadata": {},
   "outputs": [
    {
     "data": {
      "text/html": [
       "<div>\n",
       "<style scoped>\n",
       "    .dataframe tbody tr th:only-of-type {\n",
       "        vertical-align: middle;\n",
       "    }\n",
       "\n",
       "    .dataframe tbody tr th {\n",
       "        vertical-align: top;\n",
       "    }\n",
       "\n",
       "    .dataframe thead th {\n",
       "        text-align: right;\n",
       "    }\n",
       "</style>\n",
       "<table border=\"1\" class=\"dataframe\">\n",
       "  <thead>\n",
       "    <tr style=\"text-align: right;\">\n",
       "      <th></th>\n",
       "      <th>count</th>\n",
       "      <th>mean</th>\n",
       "      <th>std</th>\n",
       "      <th>min</th>\n",
       "      <th>25%</th>\n",
       "      <th>50%</th>\n",
       "      <th>75%</th>\n",
       "      <th>max</th>\n",
       "    </tr>\n",
       "  </thead>\n",
       "  <tbody>\n",
       "    <tr>\n",
       "      <th>radius_mean</th>\n",
       "      <td>114.0</td>\n",
       "      <td>14.080561</td>\n",
       "      <td>3.098263</td>\n",
       "      <td>8.597000</td>\n",
       "      <td>11.697500</td>\n",
       "      <td>13.500000</td>\n",
       "      <td>16.045000</td>\n",
       "      <td>25.73000</td>\n",
       "    </tr>\n",
       "    <tr>\n",
       "      <th>texture_mean</th>\n",
       "      <td>114.0</td>\n",
       "      <td>19.223246</td>\n",
       "      <td>4.451322</td>\n",
       "      <td>10.380000</td>\n",
       "      <td>16.040000</td>\n",
       "      <td>18.760000</td>\n",
       "      <td>21.780000</td>\n",
       "      <td>33.81000</td>\n",
       "    </tr>\n",
       "    <tr>\n",
       "      <th>perimeter_mean</th>\n",
       "      <td>114.0</td>\n",
       "      <td>91.502018</td>\n",
       "      <td>21.375850</td>\n",
       "      <td>54.090000</td>\n",
       "      <td>75.582500</td>\n",
       "      <td>87.470000</td>\n",
       "      <td>105.550000</td>\n",
       "      <td>174.20000</td>\n",
       "    </tr>\n",
       "    <tr>\n",
       "      <th>area_mean</th>\n",
       "      <td>114.0</td>\n",
       "      <td>643.151754</td>\n",
       "      <td>302.252445</td>\n",
       "      <td>221.200000</td>\n",
       "      <td>421.475000</td>\n",
       "      <td>555.150000</td>\n",
       "      <td>801.075000</td>\n",
       "      <td>2010.00000</td>\n",
       "    </tr>\n",
       "    <tr>\n",
       "      <th>smoothness_mean</th>\n",
       "      <td>114.0</td>\n",
       "      <td>0.094411</td>\n",
       "      <td>0.014287</td>\n",
       "      <td>0.064290</td>\n",
       "      <td>0.083950</td>\n",
       "      <td>0.092455</td>\n",
       "      <td>0.102250</td>\n",
       "      <td>0.14250</td>\n",
       "    </tr>\n",
       "    <tr>\n",
       "      <th>compactness_mean</th>\n",
       "      <td>114.0</td>\n",
       "      <td>0.099489</td>\n",
       "      <td>0.052283</td>\n",
       "      <td>0.023440</td>\n",
       "      <td>0.061023</td>\n",
       "      <td>0.085920</td>\n",
       "      <td>0.127825</td>\n",
       "      <td>0.28390</td>\n",
       "    </tr>\n",
       "    <tr>\n",
       "      <th>concavity_mean</th>\n",
       "      <td>114.0</td>\n",
       "      <td>0.080914</td>\n",
       "      <td>0.074235</td>\n",
       "      <td>0.000000</td>\n",
       "      <td>0.025683</td>\n",
       "      <td>0.054505</td>\n",
       "      <td>0.110250</td>\n",
       "      <td>0.33680</td>\n",
       "    </tr>\n",
       "    <tr>\n",
       "      <th>concave points_mean</th>\n",
       "      <td>114.0</td>\n",
       "      <td>0.046263</td>\n",
       "      <td>0.037399</td>\n",
       "      <td>0.000000</td>\n",
       "      <td>0.018045</td>\n",
       "      <td>0.032100</td>\n",
       "      <td>0.065710</td>\n",
       "      <td>0.19130</td>\n",
       "    </tr>\n",
       "    <tr>\n",
       "      <th>symmetry_mean</th>\n",
       "      <td>114.0</td>\n",
       "      <td>0.180534</td>\n",
       "      <td>0.028599</td>\n",
       "      <td>0.106000</td>\n",
       "      <td>0.161725</td>\n",
       "      <td>0.176700</td>\n",
       "      <td>0.195175</td>\n",
       "      <td>0.27430</td>\n",
       "    </tr>\n",
       "    <tr>\n",
       "      <th>fractal_dimension_mean</th>\n",
       "      <td>114.0</td>\n",
       "      <td>0.062289</td>\n",
       "      <td>0.007128</td>\n",
       "      <td>0.050240</td>\n",
       "      <td>0.056755</td>\n",
       "      <td>0.061460</td>\n",
       "      <td>0.065458</td>\n",
       "      <td>0.09744</td>\n",
       "    </tr>\n",
       "    <tr>\n",
       "      <th>radius_se</th>\n",
       "      <td>114.0</td>\n",
       "      <td>0.410068</td>\n",
       "      <td>0.238614</td>\n",
       "      <td>0.111500</td>\n",
       "      <td>0.243175</td>\n",
       "      <td>0.335400</td>\n",
       "      <td>0.492550</td>\n",
       "      <td>1.17200</td>\n",
       "    </tr>\n",
       "    <tr>\n",
       "      <th>texture_se</th>\n",
       "      <td>114.0</td>\n",
       "      <td>1.232139</td>\n",
       "      <td>0.666655</td>\n",
       "      <td>0.360200</td>\n",
       "      <td>0.813950</td>\n",
       "      <td>1.119000</td>\n",
       "      <td>1.459000</td>\n",
       "      <td>4.88500</td>\n",
       "    </tr>\n",
       "    <tr>\n",
       "      <th>perimeter_se</th>\n",
       "      <td>114.0</td>\n",
       "      <td>2.942824</td>\n",
       "      <td>1.720493</td>\n",
       "      <td>0.843900</td>\n",
       "      <td>1.735250</td>\n",
       "      <td>2.399500</td>\n",
       "      <td>3.469000</td>\n",
       "      <td>8.58900</td>\n",
       "    </tr>\n",
       "    <tr>\n",
       "      <th>area_se</th>\n",
       "      <td>114.0</td>\n",
       "      <td>40.091930</td>\n",
       "      <td>35.551431</td>\n",
       "      <td>7.228000</td>\n",
       "      <td>19.320000</td>\n",
       "      <td>25.045000</td>\n",
       "      <td>44.657500</td>\n",
       "      <td>199.70000</td>\n",
       "    </tr>\n",
       "    <tr>\n",
       "      <th>smoothness_se</th>\n",
       "      <td>114.0</td>\n",
       "      <td>0.006935</td>\n",
       "      <td>0.002608</td>\n",
       "      <td>0.001713</td>\n",
       "      <td>0.005313</td>\n",
       "      <td>0.006563</td>\n",
       "      <td>0.008054</td>\n",
       "      <td>0.02075</td>\n",
       "    </tr>\n",
       "    <tr>\n",
       "      <th>compactness_se</th>\n",
       "      <td>114.0</td>\n",
       "      <td>0.024971</td>\n",
       "      <td>0.016752</td>\n",
       "      <td>0.003710</td>\n",
       "      <td>0.012390</td>\n",
       "      <td>0.020015</td>\n",
       "      <td>0.033622</td>\n",
       "      <td>0.07643</td>\n",
       "    </tr>\n",
       "    <tr>\n",
       "      <th>concavity_se</th>\n",
       "      <td>114.0</td>\n",
       "      <td>0.029968</td>\n",
       "      <td>0.024563</td>\n",
       "      <td>0.000000</td>\n",
       "      <td>0.013295</td>\n",
       "      <td>0.024035</td>\n",
       "      <td>0.044123</td>\n",
       "      <td>0.15350</td>\n",
       "    </tr>\n",
       "    <tr>\n",
       "      <th>concave points_se</th>\n",
       "      <td>114.0</td>\n",
       "      <td>0.011865</td>\n",
       "      <td>0.006539</td>\n",
       "      <td>0.000000</td>\n",
       "      <td>0.007496</td>\n",
       "      <td>0.011175</td>\n",
       "      <td>0.015250</td>\n",
       "      <td>0.03441</td>\n",
       "    </tr>\n",
       "    <tr>\n",
       "      <th>symmetry_se</th>\n",
       "      <td>114.0</td>\n",
       "      <td>0.021733</td>\n",
       "      <td>0.009174</td>\n",
       "      <td>0.009539</td>\n",
       "      <td>0.016117</td>\n",
       "      <td>0.019370</td>\n",
       "      <td>0.025645</td>\n",
       "      <td>0.06146</td>\n",
       "    </tr>\n",
       "    <tr>\n",
       "      <th>fractal_dimension_se</th>\n",
       "      <td>114.0</td>\n",
       "      <td>0.003719</td>\n",
       "      <td>0.002086</td>\n",
       "      <td>0.001309</td>\n",
       "      <td>0.002279</td>\n",
       "      <td>0.003070</td>\n",
       "      <td>0.004536</td>\n",
       "      <td>0.01220</td>\n",
       "    </tr>\n",
       "    <tr>\n",
       "      <th>radius_worst</th>\n",
       "      <td>114.0</td>\n",
       "      <td>16.239298</td>\n",
       "      <td>4.586637</td>\n",
       "      <td>8.952000</td>\n",
       "      <td>13.070000</td>\n",
       "      <td>14.880000</td>\n",
       "      <td>19.695000</td>\n",
       "      <td>33.13000</td>\n",
       "    </tr>\n",
       "    <tr>\n",
       "      <th>texture_worst</th>\n",
       "      <td>114.0</td>\n",
       "      <td>25.095000</td>\n",
       "      <td>6.228466</td>\n",
       "      <td>12.490000</td>\n",
       "      <td>20.685000</td>\n",
       "      <td>25.265000</td>\n",
       "      <td>29.062500</td>\n",
       "      <td>47.16000</td>\n",
       "    </tr>\n",
       "    <tr>\n",
       "      <th>perimeter_worst</th>\n",
       "      <td>114.0</td>\n",
       "      <td>107.028509</td>\n",
       "      <td>32.000737</td>\n",
       "      <td>56.650000</td>\n",
       "      <td>83.787500</td>\n",
       "      <td>97.505000</td>\n",
       "      <td>128.800000</td>\n",
       "      <td>229.30000</td>\n",
       "    </tr>\n",
       "    <tr>\n",
       "      <th>area_worst</th>\n",
       "      <td>114.0</td>\n",
       "      <td>872.720175</td>\n",
       "      <td>549.816427</td>\n",
       "      <td>240.100000</td>\n",
       "      <td>523.975000</td>\n",
       "      <td>675.150000</td>\n",
       "      <td>1198.750000</td>\n",
       "      <td>3432.00000</td>\n",
       "    </tr>\n",
       "    <tr>\n",
       "      <th>smoothness_worst</th>\n",
       "      <td>114.0</td>\n",
       "      <td>0.127924</td>\n",
       "      <td>0.022095</td>\n",
       "      <td>0.071170</td>\n",
       "      <td>0.113775</td>\n",
       "      <td>0.128450</td>\n",
       "      <td>0.141175</td>\n",
       "      <td>0.20980</td>\n",
       "    </tr>\n",
       "    <tr>\n",
       "      <th>compactness_worst</th>\n",
       "      <td>114.0</td>\n",
       "      <td>0.243361</td>\n",
       "      <td>0.156545</td>\n",
       "      <td>0.027290</td>\n",
       "      <td>0.117275</td>\n",
       "      <td>0.210700</td>\n",
       "      <td>0.341475</td>\n",
       "      <td>0.86630</td>\n",
       "    </tr>\n",
       "    <tr>\n",
       "      <th>concavity_worst</th>\n",
       "      <td>114.0</td>\n",
       "      <td>0.248026</td>\n",
       "      <td>0.194433</td>\n",
       "      <td>0.000000</td>\n",
       "      <td>0.092397</td>\n",
       "      <td>0.193950</td>\n",
       "      <td>0.358100</td>\n",
       "      <td>0.77270</td>\n",
       "    </tr>\n",
       "    <tr>\n",
       "      <th>concave points_worst</th>\n",
       "      <td>114.0</td>\n",
       "      <td>0.110261</td>\n",
       "      <td>0.064967</td>\n",
       "      <td>0.000000</td>\n",
       "      <td>0.062960</td>\n",
       "      <td>0.099575</td>\n",
       "      <td>0.157750</td>\n",
       "      <td>0.27560</td>\n",
       "    </tr>\n",
       "    <tr>\n",
       "      <th>symmetry_worst</th>\n",
       "      <td>114.0</td>\n",
       "      <td>0.289082</td>\n",
       "      <td>0.070150</td>\n",
       "      <td>0.156600</td>\n",
       "      <td>0.246225</td>\n",
       "      <td>0.277850</td>\n",
       "      <td>0.319375</td>\n",
       "      <td>0.66380</td>\n",
       "    </tr>\n",
       "    <tr>\n",
       "      <th>fractal_dimension_worst</th>\n",
       "      <td>114.0</td>\n",
       "      <td>0.082495</td>\n",
       "      <td>0.017634</td>\n",
       "      <td>0.058650</td>\n",
       "      <td>0.070930</td>\n",
       "      <td>0.078155</td>\n",
       "      <td>0.091390</td>\n",
       "      <td>0.17300</td>\n",
       "    </tr>\n",
       "  </tbody>\n",
       "</table>\n",
       "</div>"
      ],
      "text/plain": [
       "                         count        mean         std         min  \\\n",
       "radius_mean              114.0   14.080561    3.098263    8.597000   \n",
       "texture_mean             114.0   19.223246    4.451322   10.380000   \n",
       "perimeter_mean           114.0   91.502018   21.375850   54.090000   \n",
       "area_mean                114.0  643.151754  302.252445  221.200000   \n",
       "smoothness_mean          114.0    0.094411    0.014287    0.064290   \n",
       "compactness_mean         114.0    0.099489    0.052283    0.023440   \n",
       "concavity_mean           114.0    0.080914    0.074235    0.000000   \n",
       "concave points_mean      114.0    0.046263    0.037399    0.000000   \n",
       "symmetry_mean            114.0    0.180534    0.028599    0.106000   \n",
       "fractal_dimension_mean   114.0    0.062289    0.007128    0.050240   \n",
       "radius_se                114.0    0.410068    0.238614    0.111500   \n",
       "texture_se               114.0    1.232139    0.666655    0.360200   \n",
       "perimeter_se             114.0    2.942824    1.720493    0.843900   \n",
       "area_se                  114.0   40.091930   35.551431    7.228000   \n",
       "smoothness_se            114.0    0.006935    0.002608    0.001713   \n",
       "compactness_se           114.0    0.024971    0.016752    0.003710   \n",
       "concavity_se             114.0    0.029968    0.024563    0.000000   \n",
       "concave points_se        114.0    0.011865    0.006539    0.000000   \n",
       "symmetry_se              114.0    0.021733    0.009174    0.009539   \n",
       "fractal_dimension_se     114.0    0.003719    0.002086    0.001309   \n",
       "radius_worst             114.0   16.239298    4.586637    8.952000   \n",
       "texture_worst            114.0   25.095000    6.228466   12.490000   \n",
       "perimeter_worst          114.0  107.028509   32.000737   56.650000   \n",
       "area_worst               114.0  872.720175  549.816427  240.100000   \n",
       "smoothness_worst         114.0    0.127924    0.022095    0.071170   \n",
       "compactness_worst        114.0    0.243361    0.156545    0.027290   \n",
       "concavity_worst          114.0    0.248026    0.194433    0.000000   \n",
       "concave points_worst     114.0    0.110261    0.064967    0.000000   \n",
       "symmetry_worst           114.0    0.289082    0.070150    0.156600   \n",
       "fractal_dimension_worst  114.0    0.082495    0.017634    0.058650   \n",
       "\n",
       "                                25%         50%          75%         max  \n",
       "radius_mean               11.697500   13.500000    16.045000    25.73000  \n",
       "texture_mean              16.040000   18.760000    21.780000    33.81000  \n",
       "perimeter_mean            75.582500   87.470000   105.550000   174.20000  \n",
       "area_mean                421.475000  555.150000   801.075000  2010.00000  \n",
       "smoothness_mean            0.083950    0.092455     0.102250     0.14250  \n",
       "compactness_mean           0.061023    0.085920     0.127825     0.28390  \n",
       "concavity_mean             0.025683    0.054505     0.110250     0.33680  \n",
       "concave points_mean        0.018045    0.032100     0.065710     0.19130  \n",
       "symmetry_mean              0.161725    0.176700     0.195175     0.27430  \n",
       "fractal_dimension_mean     0.056755    0.061460     0.065458     0.09744  \n",
       "radius_se                  0.243175    0.335400     0.492550     1.17200  \n",
       "texture_se                 0.813950    1.119000     1.459000     4.88500  \n",
       "perimeter_se               1.735250    2.399500     3.469000     8.58900  \n",
       "area_se                   19.320000   25.045000    44.657500   199.70000  \n",
       "smoothness_se              0.005313    0.006563     0.008054     0.02075  \n",
       "compactness_se             0.012390    0.020015     0.033622     0.07643  \n",
       "concavity_se               0.013295    0.024035     0.044123     0.15350  \n",
       "concave points_se          0.007496    0.011175     0.015250     0.03441  \n",
       "symmetry_se                0.016117    0.019370     0.025645     0.06146  \n",
       "fractal_dimension_se       0.002279    0.003070     0.004536     0.01220  \n",
       "radius_worst              13.070000   14.880000    19.695000    33.13000  \n",
       "texture_worst             20.685000   25.265000    29.062500    47.16000  \n",
       "perimeter_worst           83.787500   97.505000   128.800000   229.30000  \n",
       "area_worst               523.975000  675.150000  1198.750000  3432.00000  \n",
       "smoothness_worst           0.113775    0.128450     0.141175     0.20980  \n",
       "compactness_worst          0.117275    0.210700     0.341475     0.86630  \n",
       "concavity_worst            0.092397    0.193950     0.358100     0.77270  \n",
       "concave points_worst       0.062960    0.099575     0.157750     0.27560  \n",
       "symmetry_worst             0.246225    0.277850     0.319375     0.66380  \n",
       "fractal_dimension_worst    0.070930    0.078155     0.091390     0.17300  "
      ]
     },
     "execution_count": 3,
     "metadata": {},
     "output_type": "execute_result"
    }
   ],
   "source": [
    "test.describe().T"
   ]
  },
  {
   "cell_type": "code",
   "execution_count": 4,
   "id": "4969d3a0",
   "metadata": {},
   "outputs": [
    {
     "data": {
      "text/html": [
       "<div>\n",
       "<style scoped>\n",
       "    .dataframe tbody tr th:only-of-type {\n",
       "        vertical-align: middle;\n",
       "    }\n",
       "\n",
       "    .dataframe tbody tr th {\n",
       "        vertical-align: top;\n",
       "    }\n",
       "\n",
       "    .dataframe thead th {\n",
       "        text-align: right;\n",
       "    }\n",
       "</style>\n",
       "<table border=\"1\" class=\"dataframe\">\n",
       "  <thead>\n",
       "    <tr style=\"text-align: right;\">\n",
       "      <th></th>\n",
       "      <th>count</th>\n",
       "      <th>mean</th>\n",
       "      <th>std</th>\n",
       "      <th>min</th>\n",
       "      <th>25%</th>\n",
       "      <th>50%</th>\n",
       "      <th>75%</th>\n",
       "      <th>max</th>\n",
       "    </tr>\n",
       "  </thead>\n",
       "  <tbody>\n",
       "    <tr>\n",
       "      <th>diagnosis</th>\n",
       "      <td>455.0</td>\n",
       "      <td>0.373626</td>\n",
       "      <td>0.484299</td>\n",
       "      <td>0.000000</td>\n",
       "      <td>0.000000</td>\n",
       "      <td>0.000000</td>\n",
       "      <td>1.000000</td>\n",
       "      <td>1.00000</td>\n",
       "    </tr>\n",
       "    <tr>\n",
       "      <th>radius_mean</th>\n",
       "      <td>455.0</td>\n",
       "      <td>14.139000</td>\n",
       "      <td>3.625935</td>\n",
       "      <td>6.981000</td>\n",
       "      <td>11.705000</td>\n",
       "      <td>13.300000</td>\n",
       "      <td>15.740000</td>\n",
       "      <td>28.11000</td>\n",
       "    </tr>\n",
       "    <tr>\n",
       "      <th>texture_mean</th>\n",
       "      <td>455.0</td>\n",
       "      <td>19.306286</td>\n",
       "      <td>4.267421</td>\n",
       "      <td>9.710000</td>\n",
       "      <td>16.210000</td>\n",
       "      <td>18.890000</td>\n",
       "      <td>21.795000</td>\n",
       "      <td>39.28000</td>\n",
       "    </tr>\n",
       "    <tr>\n",
       "      <th>perimeter_mean</th>\n",
       "      <td>455.0</td>\n",
       "      <td>92.086044</td>\n",
       "      <td>24.998077</td>\n",
       "      <td>43.790000</td>\n",
       "      <td>75.015000</td>\n",
       "      <td>85.980000</td>\n",
       "      <td>103.650000</td>\n",
       "      <td>188.50000</td>\n",
       "    </tr>\n",
       "    <tr>\n",
       "      <th>area_mean</th>\n",
       "      <td>455.0</td>\n",
       "      <td>657.829890</td>\n",
       "      <td>363.536865</td>\n",
       "      <td>143.500000</td>\n",
       "      <td>419.250000</td>\n",
       "      <td>546.400000</td>\n",
       "      <td>777.250000</td>\n",
       "      <td>2501.00000</td>\n",
       "    </tr>\n",
       "    <tr>\n",
       "      <th>smoothness_mean</th>\n",
       "      <td>455.0</td>\n",
       "      <td>0.096849</td>\n",
       "      <td>0.013981</td>\n",
       "      <td>0.052630</td>\n",
       "      <td>0.086740</td>\n",
       "      <td>0.096860</td>\n",
       "      <td>0.106050</td>\n",
       "      <td>0.16340</td>\n",
       "    </tr>\n",
       "    <tr>\n",
       "      <th>compactness_mean</th>\n",
       "      <td>455.0</td>\n",
       "      <td>0.105557</td>\n",
       "      <td>0.052932</td>\n",
       "      <td>0.019380</td>\n",
       "      <td>0.066735</td>\n",
       "      <td>0.094860</td>\n",
       "      <td>0.130450</td>\n",
       "      <td>0.34540</td>\n",
       "    </tr>\n",
       "    <tr>\n",
       "      <th>concavity_mean</th>\n",
       "      <td>455.0</td>\n",
       "      <td>0.090775</td>\n",
       "      <td>0.080993</td>\n",
       "      <td>0.000000</td>\n",
       "      <td>0.030180</td>\n",
       "      <td>0.063870</td>\n",
       "      <td>0.132200</td>\n",
       "      <td>0.42680</td>\n",
       "    </tr>\n",
       "    <tr>\n",
       "      <th>concave points_mean</th>\n",
       "      <td>455.0</td>\n",
       "      <td>0.049585</td>\n",
       "      <td>0.039159</td>\n",
       "      <td>0.000000</td>\n",
       "      <td>0.020720</td>\n",
       "      <td>0.033840</td>\n",
       "      <td>0.074490</td>\n",
       "      <td>0.20120</td>\n",
       "    </tr>\n",
       "    <tr>\n",
       "      <th>symmetry_mean</th>\n",
       "      <td>455.0</td>\n",
       "      <td>0.181319</td>\n",
       "      <td>0.027140</td>\n",
       "      <td>0.116700</td>\n",
       "      <td>0.162050</td>\n",
       "      <td>0.179700</td>\n",
       "      <td>0.195800</td>\n",
       "      <td>0.30400</td>\n",
       "    </tr>\n",
       "    <tr>\n",
       "      <th>fractal_dimension_mean</th>\n",
       "      <td>455.0</td>\n",
       "      <td>0.062925</td>\n",
       "      <td>0.007045</td>\n",
       "      <td>0.049960</td>\n",
       "      <td>0.057885</td>\n",
       "      <td>0.061550</td>\n",
       "      <td>0.066375</td>\n",
       "      <td>0.09575</td>\n",
       "    </tr>\n",
       "    <tr>\n",
       "      <th>radius_se</th>\n",
       "      <td>455.0</td>\n",
       "      <td>0.403945</td>\n",
       "      <td>0.286415</td>\n",
       "      <td>0.114400</td>\n",
       "      <td>0.232350</td>\n",
       "      <td>0.318600</td>\n",
       "      <td>0.475950</td>\n",
       "      <td>2.87300</td>\n",
       "    </tr>\n",
       "    <tr>\n",
       "      <th>texture_se</th>\n",
       "      <td>455.0</td>\n",
       "      <td>1.213024</td>\n",
       "      <td>0.519653</td>\n",
       "      <td>0.362100</td>\n",
       "      <td>0.841800</td>\n",
       "      <td>1.108000</td>\n",
       "      <td>1.474500</td>\n",
       "      <td>3.64700</td>\n",
       "    </tr>\n",
       "    <tr>\n",
       "      <th>perimeter_se</th>\n",
       "      <td>455.0</td>\n",
       "      <td>2.846826</td>\n",
       "      <td>2.091831</td>\n",
       "      <td>0.757000</td>\n",
       "      <td>1.596500</td>\n",
       "      <td>2.244000</td>\n",
       "      <td>3.281500</td>\n",
       "      <td>21.98000</td>\n",
       "    </tr>\n",
       "    <tr>\n",
       "      <th>area_se</th>\n",
       "      <td>455.0</td>\n",
       "      <td>40.398501</td>\n",
       "      <td>47.691358</td>\n",
       "      <td>6.802000</td>\n",
       "      <td>17.695000</td>\n",
       "      <td>24.280000</td>\n",
       "      <td>45.295000</td>\n",
       "      <td>542.20000</td>\n",
       "    </tr>\n",
       "    <tr>\n",
       "      <th>smoothness_se</th>\n",
       "      <td>455.0</td>\n",
       "      <td>0.007067</td>\n",
       "      <td>0.003095</td>\n",
       "      <td>0.002667</td>\n",
       "      <td>0.005146</td>\n",
       "      <td>0.006261</td>\n",
       "      <td>0.008182</td>\n",
       "      <td>0.03113</td>\n",
       "    </tr>\n",
       "    <tr>\n",
       "      <th>compactness_se</th>\n",
       "      <td>455.0</td>\n",
       "      <td>0.025605</td>\n",
       "      <td>0.018202</td>\n",
       "      <td>0.002252</td>\n",
       "      <td>0.013635</td>\n",
       "      <td>0.020450</td>\n",
       "      <td>0.032045</td>\n",
       "      <td>0.13540</td>\n",
       "    </tr>\n",
       "    <tr>\n",
       "      <th>concavity_se</th>\n",
       "      <td>455.0</td>\n",
       "      <td>0.032376</td>\n",
       "      <td>0.031443</td>\n",
       "      <td>0.000000</td>\n",
       "      <td>0.015220</td>\n",
       "      <td>0.026110</td>\n",
       "      <td>0.040775</td>\n",
       "      <td>0.39600</td>\n",
       "    </tr>\n",
       "    <tr>\n",
       "      <th>concave points_se</th>\n",
       "      <td>455.0</td>\n",
       "      <td>0.011779</td>\n",
       "      <td>0.006082</td>\n",
       "      <td>0.000000</td>\n",
       "      <td>0.007766</td>\n",
       "      <td>0.010900</td>\n",
       "      <td>0.014600</td>\n",
       "      <td>0.05279</td>\n",
       "    </tr>\n",
       "    <tr>\n",
       "      <th>symmetry_se</th>\n",
       "      <td>455.0</td>\n",
       "      <td>0.020244</td>\n",
       "      <td>0.008006</td>\n",
       "      <td>0.007882</td>\n",
       "      <td>0.014985</td>\n",
       "      <td>0.018530</td>\n",
       "      <td>0.023085</td>\n",
       "      <td>0.07895</td>\n",
       "    </tr>\n",
       "    <tr>\n",
       "      <th>fractal_dimension_se</th>\n",
       "      <td>455.0</td>\n",
       "      <td>0.003814</td>\n",
       "      <td>0.002770</td>\n",
       "      <td>0.000895</td>\n",
       "      <td>0.002228</td>\n",
       "      <td>0.003211</td>\n",
       "      <td>0.004537</td>\n",
       "      <td>0.02984</td>\n",
       "    </tr>\n",
       "    <tr>\n",
       "      <th>radius_worst</th>\n",
       "      <td>455.0</td>\n",
       "      <td>16.276679</td>\n",
       "      <td>4.897917</td>\n",
       "      <td>7.930000</td>\n",
       "      <td>12.980000</td>\n",
       "      <td>14.990000</td>\n",
       "      <td>18.550000</td>\n",
       "      <td>36.04000</td>\n",
       "    </tr>\n",
       "    <tr>\n",
       "      <th>texture_worst</th>\n",
       "      <td>455.0</td>\n",
       "      <td>25.823099</td>\n",
       "      <td>6.123728</td>\n",
       "      <td>12.020000</td>\n",
       "      <td>21.350000</td>\n",
       "      <td>25.440000</td>\n",
       "      <td>29.990000</td>\n",
       "      <td>49.54000</td>\n",
       "    </tr>\n",
       "    <tr>\n",
       "      <th>perimeter_worst</th>\n",
       "      <td>455.0</td>\n",
       "      <td>107.319516</td>\n",
       "      <td>34.025815</td>\n",
       "      <td>50.410000</td>\n",
       "      <td>84.290000</td>\n",
       "      <td>97.660000</td>\n",
       "      <td>124.950000</td>\n",
       "      <td>251.20000</td>\n",
       "    </tr>\n",
       "    <tr>\n",
       "      <th>area_worst</th>\n",
       "      <td>455.0</td>\n",
       "      <td>882.553187</td>\n",
       "      <td>574.721873</td>\n",
       "      <td>185.200000</td>\n",
       "      <td>513.950000</td>\n",
       "      <td>688.600000</td>\n",
       "      <td>1047.000000</td>\n",
       "      <td>4254.00000</td>\n",
       "    </tr>\n",
       "    <tr>\n",
       "      <th>smoothness_worst</th>\n",
       "      <td>455.0</td>\n",
       "      <td>0.133482</td>\n",
       "      <td>0.022902</td>\n",
       "      <td>0.081250</td>\n",
       "      <td>0.118350</td>\n",
       "      <td>0.132600</td>\n",
       "      <td>0.147950</td>\n",
       "      <td>0.22260</td>\n",
       "    </tr>\n",
       "    <tr>\n",
       "      <th>compactness_worst</th>\n",
       "      <td>455.0</td>\n",
       "      <td>0.256997</td>\n",
       "      <td>0.157587</td>\n",
       "      <td>0.034320</td>\n",
       "      <td>0.151650</td>\n",
       "      <td>0.215600</td>\n",
       "      <td>0.333800</td>\n",
       "      <td>1.05800</td>\n",
       "    </tr>\n",
       "    <tr>\n",
       "      <th>concavity_worst</th>\n",
       "      <td>455.0</td>\n",
       "      <td>0.278242</td>\n",
       "      <td>0.211802</td>\n",
       "      <td>0.000000</td>\n",
       "      <td>0.119350</td>\n",
       "      <td>0.229900</td>\n",
       "      <td>0.387200</td>\n",
       "      <td>1.25200</td>\n",
       "    </tr>\n",
       "    <tr>\n",
       "      <th>concave points_worst</th>\n",
       "      <td>455.0</td>\n",
       "      <td>0.115695</td>\n",
       "      <td>0.065949</td>\n",
       "      <td>0.000000</td>\n",
       "      <td>0.065080</td>\n",
       "      <td>0.099930</td>\n",
       "      <td>0.161950</td>\n",
       "      <td>0.29100</td>\n",
       "    </tr>\n",
       "    <tr>\n",
       "      <th>symmetry_worst</th>\n",
       "      <td>455.0</td>\n",
       "      <td>0.290325</td>\n",
       "      <td>0.059696</td>\n",
       "      <td>0.156500</td>\n",
       "      <td>0.251550</td>\n",
       "      <td>0.283300</td>\n",
       "      <td>0.317500</td>\n",
       "      <td>0.57740</td>\n",
       "    </tr>\n",
       "    <tr>\n",
       "      <th>fractal_dimension_worst</th>\n",
       "      <td>455.0</td>\n",
       "      <td>0.084309</td>\n",
       "      <td>0.018168</td>\n",
       "      <td>0.055040</td>\n",
       "      <td>0.071835</td>\n",
       "      <td>0.080190</td>\n",
       "      <td>0.092070</td>\n",
       "      <td>0.20750</td>\n",
       "    </tr>\n",
       "  </tbody>\n",
       "</table>\n",
       "</div>"
      ],
      "text/plain": [
       "                         count        mean         std         min  \\\n",
       "diagnosis                455.0    0.373626    0.484299    0.000000   \n",
       "radius_mean              455.0   14.139000    3.625935    6.981000   \n",
       "texture_mean             455.0   19.306286    4.267421    9.710000   \n",
       "perimeter_mean           455.0   92.086044   24.998077   43.790000   \n",
       "area_mean                455.0  657.829890  363.536865  143.500000   \n",
       "smoothness_mean          455.0    0.096849    0.013981    0.052630   \n",
       "compactness_mean         455.0    0.105557    0.052932    0.019380   \n",
       "concavity_mean           455.0    0.090775    0.080993    0.000000   \n",
       "concave points_mean      455.0    0.049585    0.039159    0.000000   \n",
       "symmetry_mean            455.0    0.181319    0.027140    0.116700   \n",
       "fractal_dimension_mean   455.0    0.062925    0.007045    0.049960   \n",
       "radius_se                455.0    0.403945    0.286415    0.114400   \n",
       "texture_se               455.0    1.213024    0.519653    0.362100   \n",
       "perimeter_se             455.0    2.846826    2.091831    0.757000   \n",
       "area_se                  455.0   40.398501   47.691358    6.802000   \n",
       "smoothness_se            455.0    0.007067    0.003095    0.002667   \n",
       "compactness_se           455.0    0.025605    0.018202    0.002252   \n",
       "concavity_se             455.0    0.032376    0.031443    0.000000   \n",
       "concave points_se        455.0    0.011779    0.006082    0.000000   \n",
       "symmetry_se              455.0    0.020244    0.008006    0.007882   \n",
       "fractal_dimension_se     455.0    0.003814    0.002770    0.000895   \n",
       "radius_worst             455.0   16.276679    4.897917    7.930000   \n",
       "texture_worst            455.0   25.823099    6.123728   12.020000   \n",
       "perimeter_worst          455.0  107.319516   34.025815   50.410000   \n",
       "area_worst               455.0  882.553187  574.721873  185.200000   \n",
       "smoothness_worst         455.0    0.133482    0.022902    0.081250   \n",
       "compactness_worst        455.0    0.256997    0.157587    0.034320   \n",
       "concavity_worst          455.0    0.278242    0.211802    0.000000   \n",
       "concave points_worst     455.0    0.115695    0.065949    0.000000   \n",
       "symmetry_worst           455.0    0.290325    0.059696    0.156500   \n",
       "fractal_dimension_worst  455.0    0.084309    0.018168    0.055040   \n",
       "\n",
       "                                25%         50%          75%         max  \n",
       "diagnosis                  0.000000    0.000000     1.000000     1.00000  \n",
       "radius_mean               11.705000   13.300000    15.740000    28.11000  \n",
       "texture_mean              16.210000   18.890000    21.795000    39.28000  \n",
       "perimeter_mean            75.015000   85.980000   103.650000   188.50000  \n",
       "area_mean                419.250000  546.400000   777.250000  2501.00000  \n",
       "smoothness_mean            0.086740    0.096860     0.106050     0.16340  \n",
       "compactness_mean           0.066735    0.094860     0.130450     0.34540  \n",
       "concavity_mean             0.030180    0.063870     0.132200     0.42680  \n",
       "concave points_mean        0.020720    0.033840     0.074490     0.20120  \n",
       "symmetry_mean              0.162050    0.179700     0.195800     0.30400  \n",
       "fractal_dimension_mean     0.057885    0.061550     0.066375     0.09575  \n",
       "radius_se                  0.232350    0.318600     0.475950     2.87300  \n",
       "texture_se                 0.841800    1.108000     1.474500     3.64700  \n",
       "perimeter_se               1.596500    2.244000     3.281500    21.98000  \n",
       "area_se                   17.695000   24.280000    45.295000   542.20000  \n",
       "smoothness_se              0.005146    0.006261     0.008182     0.03113  \n",
       "compactness_se             0.013635    0.020450     0.032045     0.13540  \n",
       "concavity_se               0.015220    0.026110     0.040775     0.39600  \n",
       "concave points_se          0.007766    0.010900     0.014600     0.05279  \n",
       "symmetry_se                0.014985    0.018530     0.023085     0.07895  \n",
       "fractal_dimension_se       0.002228    0.003211     0.004537     0.02984  \n",
       "radius_worst              12.980000   14.990000    18.550000    36.04000  \n",
       "texture_worst             21.350000   25.440000    29.990000    49.54000  \n",
       "perimeter_worst           84.290000   97.660000   124.950000   251.20000  \n",
       "area_worst               513.950000  688.600000  1047.000000  4254.00000  \n",
       "smoothness_worst           0.118350    0.132600     0.147950     0.22260  \n",
       "compactness_worst          0.151650    0.215600     0.333800     1.05800  \n",
       "concavity_worst            0.119350    0.229900     0.387200     1.25200  \n",
       "concave points_worst       0.065080    0.099930     0.161950     0.29100  \n",
       "symmetry_worst             0.251550    0.283300     0.317500     0.57740  \n",
       "fractal_dimension_worst    0.071835    0.080190     0.092070     0.20750  "
      ]
     },
     "execution_count": 4,
     "metadata": {},
     "output_type": "execute_result"
    }
   ],
   "source": [
    "train.describe().T"
   ]
  },
  {
   "cell_type": "code",
   "execution_count": 5,
   "id": "1d80ec83",
   "metadata": {},
   "outputs": [
    {
     "name": "stdout",
     "output_type": "stream",
     "text": [
      "radius_mean\n",
      "symmetry_mean\n"
     ]
    },
    {
     "name": "stderr",
     "output_type": "stream",
     "text": [
      "C:\\Users\\botic\\anaconda3\\envs\\ironhack\\lib\\site-packages\\seaborn\\_decorators.py:36: FutureWarning: Pass the following variables as keyword args: x, y. From version 0.12, the only valid positional argument will be `data`, and passing other arguments without an explicit keyword will result in an error or misinterpretation.\n",
      "  warnings.warn(\n"
     ]
    },
    {
     "data": {
      "image/png": "[encoded data removed]",
      "text/plain": [
       "<Figure size 576x576 with 1 Axes>"
      ]
     },
     "metadata": {
      "needs_background": "light"
     },
     "output_type": "display_data"
    }
   ],
   "source": [
    "ml.print_scatter(train.radius_mean, train.symmetry_mean, train.diagnosis)"
   ]
  },
  {
   "cell_type": "code",
   "execution_count": 6,
   "id": "cb524a8d",
   "metadata": {},
   "outputs": [
    {
     "data": {
      "image/png": "[encoded data removed]",
      "text/plain": [
       "<Figure size 1080x1080 with 2 Axes>"
      ]
     },
     "metadata": {
      "needs_background": "light"
     },
     "output_type": "display_data"
    }
   ],
   "source": [
    "ml.print_correlation(train, 'Breast Cancer Train')"
   ]
  },
  {
   "cell_type": "code",
   "execution_count": 7,
   "id": "0843437c",
   "metadata": {},
   "outputs": [
    {
     "data": {
      "text/plain": [
       "0    285\n",
       "1    170\n",
       "Name: diagnosis, dtype: int64"
      ]
     },
     "execution_count": 7,
     "metadata": {},
     "output_type": "execute_result"
    }
   ],
   "source": [
    "train.diagnosis.value_counts()"
   ]
  },
  {
   "cell_type": "code",
   "execution_count": 8,
   "id": "89fbec3c",
   "metadata": {},
   "outputs": [
    {
     "data": {
      "image/png": "[encoded data removed]",
      "text/plain": [
       "<Figure size 432x288 with 1 Axes>"
      ]
     },
     "metadata": {
      "needs_background": "light"
     },
     "output_type": "display_data"
    }
   ],
   "source": [
    "train.diagnosis.value_counts().plot(kind='bar', color='red');"
   ]
  },
  {
   "cell_type": "markdown",
   "id": "c44c837c",
   "metadata": {},
   "source": [
    "## Initialize models"
   ]
  },
  {
   "cell_type": "code",
   "execution_count": 9,
   "id": "d070bc91",
   "metadata": {},
   "outputs": [],
   "source": [
    "rf = RandomForestClassifier()\n",
    "lr = LogisticRegression(max_iter=2000,class_weight='balanced')\n",
    "xgb = XGBClassifier()\n",
    "xgbrf = XGBRFClassifier()\n",
    "lgbm = LGBMClassifier()\n",
    "cat = CatBoostClassifier(verbose=0)\n",
    "ada = AdaBoostClassifier()\n",
    "\n",
    "\n",
    "models = [rf, xgb, xgbrf, lgbm, cat, ada]\n",
    "final = [lr]\n",
    "\n",
    "model_list=[models, final]"
   ]
  },
  {
   "cell_type": "code",
   "execution_count": null,
   "id": "e6d32c64",
   "metadata": {},
   "outputs": [],
   "source": []
  },
  {
   "cell_type": "markdown",
   "id": "685e3aab",
   "metadata": {},
   "source": [
    "## Trying with only 2 features"
   ]
  },
  {
   "cell_type": "code",
   "execution_count": 10,
   "id": "e9ea02f3",
   "metadata": {},
   "outputs": [],
   "source": [
    "X = train[['radius_mean','symmetry_mean']]\n",
    "y = train.diagnosis\n",
    "test = test[['radius_mean','symmetry_mean']]"
   ]
  },
  {
   "cell_type": "code",
   "execution_count": 11,
   "id": "a919e521",
   "metadata": {},
   "outputs": [],
   "source": [
    "X_train, X_test, y_train, y_test = train_test_split(X,y, random_state=42, stratify=y, test_size=.2)"
   ]
  },
  {
   "cell_type": "code",
   "execution_count": 13,
   "id": "82c390dc",
   "metadata": {},
   "outputs": [
    {
     "name": "stderr",
     "output_type": "stream",
     "text": [
      "  0%|          | 0/2 [00:00<?, ?it/s]\n",
      "  0%|          | 0/6 [00:00<?, ?it/s]\u001b[A\n",
      " 17%|█▋        | 1/6 [00:00<00:00,  9.43it/s]\u001b[A"
     ]
    },
    {
     "name": "stdout",
     "output_type": "stream",
     "text": [
      "Training RandomForestCl\n",
      "f1_score on train of RandomForestCl: 1.0\n",
      "\n",
      "f1_score on validation of RandomForestCl: 0.8508196721311476\n",
      "Training XGBClassifier(\n",
      "f1_score on train of XGBClassifier(: 1.0\n",
      "\n",
      "f1_score on validation of XGBClassifier(: 0.8259562841530055\n",
      "Training XGBRFClassifie\n",
      "Training LGBMClassifier\n",
      "f1_score on train of LGBMClassifier: 1.0\n",
      "\n",
      "f1_score on validation of LGBMClassifier: 0.8643815201192251\n",
      "Training catboost\n"
     ]
    },
    {
     "name": "stderr",
     "output_type": "stream",
     "text": [
      "\n",
      "100%|██████████| 6/6 [00:01<00:00,  5.44it/s]\u001b[A\n",
      " 50%|█████     | 1/2 [00:01<00:01,  1.10s/it]"
     ]
    },
    {
     "name": "stdout",
     "output_type": "stream",
     "text": [
      "Training AdaBoostClassi\n"
     ]
    },
    {
     "name": "stderr",
     "output_type": "stream",
     "text": [
      "\n",
      "100%|██████████| 1/1 [00:00<00:00, 90.89it/s]\n",
      "100%|██████████| 2/2 [00:01<00:00,  1.79it/s]"
     ]
    },
    {
     "name": "stdout",
     "output_type": "stream",
     "text": [
      "Training LogisticRegres\n",
      "f1_score on train of LogisticRegres: 1.0\n",
      "\n",
      "f1_score on validation of LogisticRegres: 0.8369849800192917\n"
     ]
    },
    {
     "name": "stderr",
     "output_type": "stream",
     "text": [
      "\n"
     ]
    }
   ],
   "source": [
    "preds_2_feact = ml.train_stack_model(model_list, X_train, y_train, X_test, y_test, test)"
   ]
  },
  {
   "cell_type": "code",
   "execution_count": 14,
   "id": "4a50e71e",
   "metadata": {},
   "outputs": [
    {
     "data": {
      "text/plain": [
       "{'f1_score': 0.8369849800192917,\n",
       " 'kappa': 0.6775688198419187,\n",
       " 'Precision': 0.92,\n",
       " 'Recall': 0.6764705882352942,\n",
       " 'Confusion matrix': array([[55,  2],\n",
       "        [11, 23]], dtype=int64)}"
      ]
     },
     "execution_count": 14,
     "metadata": {},
     "output_type": "execute_result"
    }
   ],
   "source": [
    "preds_2_feact[1]"
   ]
  },
  {
   "cell_type": "markdown",
   "id": "eb9868c7",
   "metadata": {},
   "source": [
    "## 2 Features With Smote"
   ]
  },
  {
   "cell_type": "code",
   "execution_count": 15,
   "id": "85a19cf3",
   "metadata": {},
   "outputs": [],
   "source": [
    "smote = SMOTE(random_state=42).fit(X_train, y_train)\n",
    "X_train_s, y_train_s = smote.fit_resample(X_train, y_train)"
   ]
  },
  {
   "cell_type": "code",
   "execution_count": 16,
   "id": "20e5de6d",
   "metadata": {},
   "outputs": [
    {
     "name": "stderr",
     "output_type": "stream",
     "text": [
      "  0%|          | 0/2 [00:00<?, ?it/s]\n",
      "  0%|          | 0/6 [00:00<?, ?it/s]\u001b[A\n",
      " 17%|█▋        | 1/6 [00:00<00:00,  8.47it/s]\u001b[A"
     ]
    },
    {
     "name": "stdout",
     "output_type": "stream",
     "text": [
      "Training RandomForestCl\n",
      "f1_score on train of RandomForestCl: 1.0\n",
      "\n",
      "f1_score on validation of RandomForestCl: 0.8795021186440678\n",
      "Training XGBClassifier(\n",
      "f1_score on train of XGBClassifier(: 1.0\n",
      "\n",
      "f1_score on validation of XGBClassifier(: 0.8907563025210083\n",
      "Training XGBRFClassifie\n",
      "Training LGBMClassifier\n"
     ]
    },
    {
     "name": "stderr",
     "output_type": "stream",
     "text": [
      "\n",
      " 67%|██████▋   | 4/6 [00:00<00:00, 19.21it/s]\u001b[A"
     ]
    },
    {
     "name": "stdout",
     "output_type": "stream",
     "text": [
      "f1_score on train of LGBMClassifier: 0.9956139507146566\n",
      "\n",
      "f1_score on validation of LGBMClassifier: 0.8795021186440678\n",
      "Training catboost\n"
     ]
    },
    {
     "name": "stderr",
     "output_type": "stream",
     "text": [
      "\n",
      "100%|██████████| 6/6 [00:01<00:00,  5.12it/s]\u001b[A\n",
      " 50%|█████     | 1/2 [00:01<00:01,  1.17s/it]"
     ]
    },
    {
     "name": "stdout",
     "output_type": "stream",
     "text": [
      "Training AdaBoostClassi\n"
     ]
    },
    {
     "name": "stderr",
     "output_type": "stream",
     "text": [
      "\n",
      "100%|██████████| 1/1 [00:00<00:00, 62.48it/s]\n",
      "100%|██████████| 2/2 [00:01<00:00,  1.67it/s]"
     ]
    },
    {
     "name": "stdout",
     "output_type": "stream",
     "text": [
      "Training LogisticRegres\n",
      "f1_score on train of LogisticRegres: 1.0\n",
      "\n",
      "f1_score on validation of LogisticRegres: 0.9036016949152541\n"
     ]
    },
    {
     "name": "stderr",
     "output_type": "stream",
     "text": [
      "\n"
     ]
    }
   ],
   "source": [
    "preds_2_feact_s = ml.train_stack_model(model_list, X_train_s, y_train_s, X_test, y_test, test)"
   ]
  },
  {
   "cell_type": "code",
   "execution_count": 17,
   "id": "25e71c38",
   "metadata": {},
   "outputs": [
    {
     "data": {
      "text/plain": [
       "{'f1_score': 0.9036016949152541,\n",
       " 'kappa': 0.8076109936575053,\n",
       " 'Precision': 0.9333333333333333,\n",
       " 'Recall': 0.8235294117647058,\n",
       " 'Confusion matrix': array([[55,  2],\n",
       "        [ 6, 28]], dtype=int64)}"
      ]
     },
     "execution_count": 17,
     "metadata": {},
     "output_type": "execute_result"
    }
   ],
   "source": [
    "preds_2_feact_s[1]"
   ]
  },
  {
   "cell_type": "markdown",
   "id": "198d76f1",
   "metadata": {},
   "source": [
    "## 2 Features with SMOTE and scaled Data"
   ]
  },
  {
   "cell_type": "code",
   "execution_count": 19,
   "id": "0066e358",
   "metadata": {},
   "outputs": [],
   "source": [
    "rs = RobustScaler().fit(X_train)\n",
    "mms = MinMaxScaler().fit(X_train)"
   ]
  },
  {
   "cell_type": "code",
   "execution_count": 20,
   "id": "ffee2d16",
   "metadata": {},
   "outputs": [],
   "source": [
    "X_train_s_rs = rs.transform(X_train_s)\n",
    "X_test_rs = rs.transform(X_test)\n",
    "test_rs = rs.transform(test)\n",
    "\n",
    "X_train_s_mm = mms.transform(X_train_s)\n",
    "X_test_mm = mms.transform(X_test)\n",
    "test_mm = mms.transform(test)"
   ]
  },
  {
   "cell_type": "code",
   "execution_count": 21,
   "id": "604617b9",
   "metadata": {},
   "outputs": [
    {
     "name": "stderr",
     "output_type": "stream",
     "text": [
      "  0%|          | 0/2 [00:00<?, ?it/s]\n",
      "  0%|          | 0/6 [00:00<?, ?it/s]\u001b[A\n",
      " 17%|█▋        | 1/6 [00:00<00:00,  9.26it/s]\u001b[A"
     ]
    },
    {
     "name": "stdout",
     "output_type": "stream",
     "text": [
      "Training RandomForestCl\n",
      "f1_score on train of RandomForestCl: 1.0\n",
      "\n",
      "f1_score on validation of RandomForestCl: 0.8923076923076924\n",
      "Training XGBClassifier(\n",
      "f1_score on train of XGBClassifier(: 1.0\n",
      "\n",
      "f1_score on validation of XGBClassifier(: 0.8907563025210083\n",
      "Training XGBRFClassifie\n",
      "Training LGBMClassifier\n"
     ]
    },
    {
     "name": "stderr",
     "output_type": "stream",
     "text": [
      "\n",
      " 67%|██████▋   | 4/6 [00:00<00:00, 20.04it/s]\u001b[A"
     ]
    },
    {
     "name": "stdout",
     "output_type": "stream",
     "text": [
      "f1_score on train of LGBMClassifier: 0.9956139507146566\n",
      "\n",
      "f1_score on validation of LGBMClassifier: 0.8811389759665622\n",
      "Training catboost\n"
     ]
    },
    {
     "name": "stderr",
     "output_type": "stream",
     "text": [
      "\n",
      "100%|██████████| 6/6 [00:01<00:00,  5.26it/s]\u001b[A\n",
      " 50%|█████     | 1/2 [00:01<00:01,  1.14s/it]"
     ]
    },
    {
     "name": "stdout",
     "output_type": "stream",
     "text": [
      "Training AdaBoostClassi\n"
     ]
    },
    {
     "name": "stderr",
     "output_type": "stream",
     "text": [
      "\n",
      "100%|██████████| 1/1 [00:00<00:00, 76.90it/s]\n",
      "100%|██████████| 2/2 [00:01<00:00,  1.73it/s]"
     ]
    },
    {
     "name": "stdout",
     "output_type": "stream",
     "text": [
      "Training LogisticRegres\n",
      "f1_score on train of LogisticRegres: 1.0\n",
      "\n",
      "f1_score on validation of LogisticRegres: 0.8795021186440678\n"
     ]
    },
    {
     "name": "stderr",
     "output_type": "stream",
     "text": [
      "\n"
     ]
    }
   ],
   "source": [
    "preds_2_s_rs = ml.train_stack_model(model_list, X_train_s_rs, y_train_s, X_test_rs, y_test, test_rs)"
   ]
  },
  {
   "cell_type": "code",
   "execution_count": 22,
   "id": "89909534",
   "metadata": {},
   "outputs": [
    {
     "data": {
      "text/plain": [
       "{'f1_score': 0.8795021186440678,\n",
       " 'kappa': 0.7595137420718816,\n",
       " 'Precision': 0.9,\n",
       " 'Recall': 0.7941176470588235,\n",
       " 'Confusion matrix': array([[54,  3],\n",
       "        [ 7, 27]], dtype=int64)}"
      ]
     },
     "execution_count": 22,
     "metadata": {},
     "output_type": "execute_result"
    }
   ],
   "source": [
    "preds_2_s_rs[1]"
   ]
  },
  {
   "cell_type": "code",
   "execution_count": 23,
   "id": "78d4d002",
   "metadata": {},
   "outputs": [
    {
     "name": "stderr",
     "output_type": "stream",
     "text": [
      "  0%|          | 0/2 [00:00<?, ?it/s]\n",
      "  0%|          | 0/6 [00:00<?, ?it/s]\u001b[A\n",
      " 17%|█▋        | 1/6 [00:00<00:00,  9.34it/s]\u001b[A"
     ]
    },
    {
     "name": "stdout",
     "output_type": "stream",
     "text": [
      "Training RandomForestCl\n",
      "f1_score on train of RandomForestCl: 1.0\n",
      "\n",
      "f1_score on validation of RandomForestCl: 0.8554025423728813\n",
      "Training XGBClassifier(\n",
      "f1_score on train of XGBClassifier(: 1.0\n",
      "\n",
      "f1_score on validation of XGBClassifier(: 0.8907563025210083\n",
      "Training XGBRFClassifie\n",
      "Training LGBMClassifier\n",
      "f1_score on train of LGBMClassifier: 0.997807006997379\n",
      "\n"
     ]
    },
    {
     "name": "stderr",
     "output_type": "stream",
     "text": [
      "\n",
      " 67%|██████▋   | 4/6 [00:00<00:00, 21.03it/s]\u001b[A"
     ]
    },
    {
     "name": "stdout",
     "output_type": "stream",
     "text": [
      "f1_score on validation of LGBMClassifier: 0.8923076923076924\n",
      "Training catboost\n"
     ]
    },
    {
     "name": "stderr",
     "output_type": "stream",
     "text": [
      "100%|██████████| 6/6 [00:01<00:00,  5.12it/s]\n",
      " 50%|█████     | 1/2 [00:01<00:01,  1.17s/it]"
     ]
    },
    {
     "name": "stdout",
     "output_type": "stream",
     "text": [
      "Training AdaBoostClassi\n"
     ]
    },
    {
     "name": "stderr",
     "output_type": "stream",
     "text": [
      "\n",
      "100%|██████████| 1/1 [00:00<00:00, 76.91it/s]\n",
      "100%|██████████| 2/2 [00:01<00:00,  1.68it/s]"
     ]
    },
    {
     "name": "stdout",
     "output_type": "stream",
     "text": [
      "Training LogisticRegres\n",
      "f1_score on train of LogisticRegres: 1.0\n",
      "\n",
      "f1_score on validation of LogisticRegres: 0.8795021186440678\n"
     ]
    },
    {
     "name": "stderr",
     "output_type": "stream",
     "text": [
      "\n"
     ]
    }
   ],
   "source": [
    "preds_2_s_mm = ml.train_stack_model(model_list, X_train_s_mm, y_train_s, X_test_mm, y_test, test_mm)"
   ]
  },
  {
   "cell_type": "code",
   "execution_count": 24,
   "id": "1e8827cf",
   "metadata": {},
   "outputs": [
    {
     "data": {
      "text/plain": [
       "{'f1_score': 0.8795021186440678,\n",
       " 'kappa': 0.7595137420718816,\n",
       " 'Precision': 0.9,\n",
       " 'Recall': 0.7941176470588235,\n",
       " 'Confusion matrix': array([[54,  3],\n",
       "        [ 7, 27]], dtype=int64)}"
      ]
     },
     "execution_count": 24,
     "metadata": {},
     "output_type": "execute_result"
    }
   ],
   "source": [
    "preds_2_s_mm[1]"
   ]
  },
  {
   "cell_type": "code",
   "execution_count": null,
   "id": "be598bd7",
   "metadata": {},
   "outputs": [],
   "source": []
  },
  {
   "cell_type": "code",
   "execution_count": 9,
   "id": "b4269456",
   "metadata": {},
   "outputs": [],
   "source": [
    "X = train.drop('diagnosis', axis=1)\n",
    "y = train.diagnosis"
   ]
  },
  {
   "cell_type": "code",
   "execution_count": 10,
   "id": "30fd40e8",
   "metadata": {},
   "outputs": [],
   "source": [
    "X_train, X_test, y_train, y_test = train_test_split(X,y, random_state=42, stratify=y, test_size=.2)"
   ]
  },
  {
   "cell_type": "code",
   "execution_count": 11,
   "id": "f59bc75c",
   "metadata": {},
   "outputs": [
    {
     "data": {
      "text/plain": [
       "(364, 30)"
      ]
     },
     "execution_count": 11,
     "metadata": {},
     "output_type": "execute_result"
    }
   ],
   "source": [
    "X_train.shape"
   ]
  },
  {
   "cell_type": "code",
   "execution_count": 16,
   "id": "11ca1a32",
   "metadata": {},
   "outputs": [],
   "source": []
  },
  {
   "cell_type": "code",
   "execution_count": 17,
   "id": "21345d7e",
   "metadata": {},
   "outputs": [
    {
     "name": "stderr",
     "output_type": "stream",
     "text": [
      "  0%|          | 0/2 [00:00<?, ?it/s]\n",
      "  0%|          | 0/6 [00:00<?, ?it/s]\u001b[A\n",
      " 17%|█▋        | 1/6 [00:00<00:00,  7.52it/s]\u001b[A"
     ]
    },
    {
     "name": "stdout",
     "output_type": "stream",
     "text": [
      "Training RandomForestCl\n",
      "f1_score on train of RandomForestCl: 1.0\n",
      "\n",
      "f1_score on validation of RandomForestCl: 0.9286833855799372\n",
      "Training XGBClassifier(\n",
      "f1_score on train of XGBClassifier(: 1.0\n",
      "\n",
      "f1_score on validation of XGBClassifier(: 0.9401709401709402\n",
      "Training XGBRFClassifie\n",
      "f1_score on train of XGBRFClassifie: 0.9822282980177717\n",
      "\n"
     ]
    },
    {
     "name": "stderr",
     "output_type": "stream",
     "text": [
      "\n",
      " 67%|██████▋   | 4/6 [00:00<00:00, 16.66it/s]\u001b[A"
     ]
    },
    {
     "name": "stdout",
     "output_type": "stream",
     "text": [
      "f1_score on validation of XGBRFClassifie: 0.9286833855799372\n",
      "Training LGBMClassifier\n",
      "f1_score on train of LGBMClassifier: 1.0\n",
      "\n",
      "f1_score on validation of LGBMClassifier: 0.9881894873458792\n",
      "Training catboost\n"
     ]
    },
    {
     "name": "stderr",
     "output_type": "stream",
     "text": [
      "\n",
      "100%|██████████| 6/6 [00:02<00:00,  2.78it/s]\u001b[A\n",
      " 50%|█████     | 1/2 [00:02<00:02,  2.16s/it]"
     ]
    },
    {
     "name": "stdout",
     "output_type": "stream",
     "text": [
      "f1_score on train of catboost: 1.0\n",
      "\n",
      "f1_score on validation of catboost: 0.9762277951933125\n",
      "Training AdaBoostClassi\n",
      "f1_score on train of AdaBoostClassi: 1.0\n",
      "\n",
      "f1_score on validation of AdaBoostClassi: 0.9524555903866249\n"
     ]
    },
    {
     "name": "stderr",
     "output_type": "stream",
     "text": [
      "\n",
      "100%|██████████| 1/1 [00:00<00:00, 83.31it/s]\n",
      "100%|██████████| 2/2 [00:02<00:00,  1.09s/it]"
     ]
    },
    {
     "name": "stdout",
     "output_type": "stream",
     "text": [
      "Training LogisticRegres\n",
      "f1_score on train of LogisticRegres: 1.0\n",
      "\n",
      "f1_score on validation of LogisticRegres: 0.9762277951933125\n"
     ]
    },
    {
     "name": "stderr",
     "output_type": "stream",
     "text": [
      "\n"
     ]
    },
    {
     "data": {
      "text/plain": [
       "(     LogisticRegres\n",
       " 0                 0\n",
       " 1                 0\n",
       " 2                 0\n",
       " 3                 1\n",
       " 4                 0\n",
       " ..              ...\n",
       " 109               0\n",
       " 110               0\n",
       " 111               0\n",
       " 112               1\n",
       " 113               0\n",
       " \n",
       " [114 rows x 1 columns],\n",
       " {'f1_score': 0.9762277951933125,\n",
       "  'kappa': 0.9524804177545692,\n",
       "  'Precision': 1.0,\n",
       "  'Recall': 0.9411764705882353,\n",
       "  'Confusion matrix': array([[57,  0],\n",
       "         [ 2, 32]], dtype=int64)})"
      ]
     },
     "execution_count": 17,
     "metadata": {},
     "output_type": "execute_result"
    }
   ],
   "source": [
    "ml.train_stack_model(model_list, X_train, y_train, X_test, y_test, test)"
   ]
  },
  {
   "cell_type": "markdown",
   "id": "69c788f5",
   "metadata": {},
   "source": [
    "### Triying with SMOTE"
   ]
  },
  {
   "cell_type": "code",
   "execution_count": 19,
   "id": "48602f64",
   "metadata": {},
   "outputs": [],
   "source": [
    "smote = SMOTE(random_state=42).fit(X_train, y_train)"
   ]
  },
  {
   "cell_type": "code",
   "execution_count": 20,
   "id": "a5208277",
   "metadata": {},
   "outputs": [],
   "source": [
    "X_train_s, y_train_s = smote.fit_resample(X_train, y_train)"
   ]
  },
  {
   "cell_type": "code",
   "execution_count": 21,
   "id": "48cf97c0",
   "metadata": {},
   "outputs": [
    {
     "data": {
      "text/plain": [
       "((456, 30), (456,))"
      ]
     },
     "execution_count": 21,
     "metadata": {},
     "output_type": "execute_result"
    }
   ],
   "source": [
    "X_train_s.shape, y_train_s.shape"
   ]
  },
  {
   "cell_type": "code",
   "execution_count": 22,
   "id": "9bdf241c",
   "metadata": {},
   "outputs": [
    {
     "name": "stderr",
     "output_type": "stream",
     "text": [
      "  0%|          | 0/2 [00:00<?, ?it/s]\n",
      "  0%|          | 0/6 [00:00<?, ?it/s]\u001b[A\n",
      " 17%|█▋        | 1/6 [00:00<00:00,  7.35it/s]\u001b[A"
     ]
    },
    {
     "name": "stdout",
     "output_type": "stream",
     "text": [
      "Training RandomForestCl\n",
      "f1_score on train of RandomForestCl: 1.0\n",
      "\n",
      "f1_score on validation of RandomForestCl: 0.9765221878224974\n",
      "Training XGBClassifier(\n",
      "f1_score on train of XGBClassifier(: 1.0\n",
      "\n",
      "f1_score on validation of XGBClassifier(: 0.9401709401709402\n"
     ]
    },
    {
     "name": "stderr",
     "output_type": "stream",
     "text": [
      "\n",
      " 50%|█████     | 3/6 [00:00<00:00, 13.55it/s]\u001b[A"
     ]
    },
    {
     "name": "stdout",
     "output_type": "stream",
     "text": [
      "Training XGBRFClassifie\n",
      "f1_score on train of XGBRFClassifie: 0.997807006997379\n",
      "\n",
      "f1_score on validation of XGBRFClassifie: 0.9653597259231063\n",
      "Training LGBMClassifier\n",
      "f1_score on train of LGBMClassifier: 1.0\n",
      "\n",
      "f1_score on validation of LGBMClassifier: 0.9524555903866249\n",
      "Training catboost\n"
     ]
    },
    {
     "name": "stderr",
     "output_type": "stream",
     "text": [
      "\n",
      " 83%|████████▎ | 5/6 [00:02<00:00,  1.97it/s]\u001b[A\n",
      "100%|██████████| 6/6 [00:02<00:00,  2.75it/s]\u001b[A\n",
      " 50%|█████     | 1/2 [00:02<00:02,  2.18s/it]"
     ]
    },
    {
     "name": "stdout",
     "output_type": "stream",
     "text": [
      "f1_score on train of catboost: 1.0\n",
      "\n",
      "f1_score on validation of catboost: 0.9881894873458792\n",
      "Training AdaBoostClassi\n",
      "f1_score on train of AdaBoostClassi: 1.0\n",
      "\n",
      "f1_score on validation of AdaBoostClassi: 0.9401709401709402\n"
     ]
    },
    {
     "name": "stderr",
     "output_type": "stream",
     "text": [
      "\n",
      "100%|██████████| 1/1 [00:00<00:00, 76.91it/s]\n",
      "100%|██████████| 2/2 [00:02<00:00,  1.10s/it]"
     ]
    },
    {
     "name": "stdout",
     "output_type": "stream",
     "text": [
      "Training LogisticRegres\n",
      "f1_score on train of LogisticRegres: 1.0\n",
      "\n",
      "f1_score on validation of LogisticRegres: 0.9641025641025641\n"
     ]
    },
    {
     "name": "stderr",
     "output_type": "stream",
     "text": [
      "\n"
     ]
    },
    {
     "data": {
      "text/plain": [
       "(     LogisticRegres\n",
       " 0                 0\n",
       " 1                 0\n",
       " 2                 0\n",
       " 3                 1\n",
       " 4                 0\n",
       " ..              ...\n",
       " 109               0\n",
       " 110               0\n",
       " 111               0\n",
       " 112               1\n",
       " 113               0\n",
       " \n",
       " [114 rows x 1 columns],\n",
       " {'f1_score': 0.9641025641025641,\n",
       "  'kappa': 0.9282899921197794,\n",
       "  'Precision': 1.0,\n",
       "  'Recall': 0.9117647058823529,\n",
       "  'Confusion matrix': array([[57,  0],\n",
       "         [ 3, 31]], dtype=int64)})"
      ]
     },
     "execution_count": 22,
     "metadata": {},
     "output_type": "execute_result"
    }
   ],
   "source": [
    "ml.train_stack_model(model_list, X_train_s, y_train_s, X_test, y_test, test)"
   ]
  },
  {
   "cell_type": "markdown",
   "id": "8851e9c9",
   "metadata": {},
   "source": [
    "### Trying with scaled data"
   ]
  },
  {
   "cell_type": "code",
   "execution_count": 23,
   "id": "32a26905",
   "metadata": {},
   "outputs": [],
   "source": [
    "rs = RobustScaler().fit(X_train)\n",
    "mms = MinMaxScaler().fit(X_train)"
   ]
  },
  {
   "cell_type": "code",
   "execution_count": 26,
   "id": "8adb6c30",
   "metadata": {},
   "outputs": [],
   "source": [
    "X_train_s_rs = rs.transform(X_train_s)\n",
    "X_test_rs = rs.transform(X_test)\n",
    "test_rs = rs.transform(test)"
   ]
  },
  {
   "cell_type": "code",
   "execution_count": 27,
   "id": "8e52bc04",
   "metadata": {},
   "outputs": [],
   "source": [
    "X_train_s_mm = mms.transform(X_train_s)\n",
    "X_test_mm = mms.transform(X_test)\n",
    "test_mm = mms.transform(test)"
   ]
  },
  {
   "cell_type": "code",
   "execution_count": 28,
   "id": "3e70a860",
   "metadata": {},
   "outputs": [
    {
     "name": "stderr",
     "output_type": "stream",
     "text": [
      "  0%|          | 0/2 [00:00<?, ?it/s]\n",
      "  0%|          | 0/6 [00:00<?, ?it/s]\u001b[A\n",
      " 17%|█▋        | 1/6 [00:00<00:00,  7.14it/s]\u001b[A"
     ]
    },
    {
     "name": "stdout",
     "output_type": "stream",
     "text": [
      "Training RandomForestCl\n",
      "f1_score on train of RandomForestCl: 1.0\n",
      "\n",
      "f1_score on validation of RandomForestCl: 0.9645684620376379\n",
      "Training XGBClassifier(\n",
      "f1_score on train of XGBClassifier(: 1.0\n",
      "\n"
     ]
    },
    {
     "name": "stderr",
     "output_type": "stream",
     "text": [
      "\n",
      " 67%|██████▋   | 4/6 [00:00<00:00, 16.15it/s]\u001b[A"
     ]
    },
    {
     "name": "stdout",
     "output_type": "stream",
     "text": [
      "f1_score on validation of XGBClassifier(: 0.9401709401709402\n",
      "Training XGBRFClassifie\n",
      "f1_score on train of XGBRFClassifie: 0.997807006997379\n",
      "\n",
      "f1_score on validation of XGBRFClassifie: 0.9653597259231063\n",
      "Training LGBMClassifier\n",
      "f1_score on train of LGBMClassifier: 1.0\n",
      "\n",
      "f1_score on validation of LGBMClassifier: 0.9518008474576272\n",
      "Training catboost\n"
     ]
    },
    {
     "name": "stderr",
     "output_type": "stream",
     "text": [
      "\n",
      "100%|██████████| 6/6 [00:01<00:00,  3.05it/s]\u001b[A\n",
      " 50%|█████     | 1/2 [00:01<00:01,  1.97s/it]"
     ]
    },
    {
     "name": "stdout",
     "output_type": "stream",
     "text": [
      "f1_score on train of catboost: 1.0\n",
      "\n",
      "f1_score on validation of catboost: 0.9881894873458792\n",
      "Training AdaBoostClassi\n",
      "f1_score on train of AdaBoostClassi: 1.0\n",
      "\n",
      "f1_score on validation of AdaBoostClassi: 0.9401709401709402\n"
     ]
    },
    {
     "name": "stderr",
     "output_type": "stream",
     "text": [
      "\n",
      "100%|██████████| 1/1 [00:00<00:00, 76.90it/s]\n",
      "100%|██████████| 2/2 [00:01<00:00,  1.01it/s]"
     ]
    },
    {
     "name": "stdout",
     "output_type": "stream",
     "text": [
      "Training LogisticRegres\n",
      "f1_score on train of LogisticRegres: 1.0\n",
      "\n",
      "f1_score on validation of LogisticRegres: 0.9518008474576272\n"
     ]
    },
    {
     "name": "stderr",
     "output_type": "stream",
     "text": [
      "\n"
     ]
    },
    {
     "data": {
      "text/plain": [
       "(     LogisticRegres\n",
       " 0                 0\n",
       " 1                 0\n",
       " 2                 0\n",
       " 3                 1\n",
       " 4                 0\n",
       " ..              ...\n",
       " 109               0\n",
       " 110               0\n",
       " 111               0\n",
       " 112               1\n",
       " 113               0\n",
       " \n",
       " [114 rows x 1 columns],\n",
       " {'f1_score': 0.9518008474576272,\n",
       "  'kappa': 0.9038054968287527,\n",
       "  'Precision': 1.0,\n",
       "  'Recall': 0.8823529411764706,\n",
       "  'Confusion matrix': array([[57,  0],\n",
       "         [ 4, 30]], dtype=int64)})"
      ]
     },
     "execution_count": 28,
     "metadata": {},
     "output_type": "execute_result"
    }
   ],
   "source": [
    "ml.train_stack_model(model_list, X_train_s_rs, y_train_s, X_test_rs, y_test, test_rs)"
   ]
  },
  {
   "cell_type": "code",
   "execution_count": 29,
   "id": "7d39e1f2",
   "metadata": {},
   "outputs": [
    {
     "name": "stderr",
     "output_type": "stream",
     "text": [
      "  0%|          | 0/2 [00:00<?, ?it/s]\n",
      "  0%|          | 0/6 [00:00<?, ?it/s]\u001b[A\n",
      " 17%|█▋        | 1/6 [00:00<00:00,  7.41it/s]\u001b[A"
     ]
    },
    {
     "name": "stdout",
     "output_type": "stream",
     "text": [
      "Training RandomForestCl\n",
      "f1_score on train of RandomForestCl: 1.0\n",
      "\n",
      "f1_score on validation of RandomForestCl: 0.9535714285714285\n",
      "Training XGBClassifier(\n",
      "f1_score on train of XGBClassifier(: 1.0\n",
      "\n",
      "f1_score on validation of XGBClassifier(: 0.9401709401709402\n",
      "Training XGBRFClassifie\n"
     ]
    },
    {
     "name": "stderr",
     "output_type": "stream",
     "text": [
      "\n",
      " 67%|██████▋   | 4/6 [00:00<00:00, 16.78it/s]\u001b[A"
     ]
    },
    {
     "name": "stdout",
     "output_type": "stream",
     "text": [
      "f1_score on train of XGBRFClassifie: 0.997807006997379\n",
      "\n",
      "f1_score on validation of XGBRFClassifie: 0.9653597259231063\n",
      "Training LGBMClassifier\n",
      "f1_score on train of LGBMClassifier: 1.0\n",
      "\n",
      "f1_score on validation of LGBMClassifier: 0.9524555903866249\n",
      "Training catboost\n"
     ]
    },
    {
     "name": "stderr",
     "output_type": "stream",
     "text": [
      "\n",
      "100%|██████████| 6/6 [00:01<00:00,  3.05it/s]\u001b[A\n",
      " 50%|█████     | 1/2 [00:01<00:01,  1.97s/it]"
     ]
    },
    {
     "name": "stdout",
     "output_type": "stream",
     "text": [
      "f1_score on train of catboost: 1.0\n",
      "\n",
      "f1_score on validation of catboost: 0.9881894873458792\n",
      "Training AdaBoostClassi\n",
      "f1_score on train of AdaBoostClassi: 1.0\n",
      "\n",
      "f1_score on validation of AdaBoostClassi: 0.9401709401709402\n"
     ]
    },
    {
     "name": "stderr",
     "output_type": "stream",
     "text": [
      "\n",
      "100%|██████████| 1/1 [00:00<00:00, 76.90it/s]\n",
      "100%|██████████| 2/2 [00:01<00:00,  1.01it/s]"
     ]
    },
    {
     "name": "stdout",
     "output_type": "stream",
     "text": [
      "Training LogisticRegres\n",
      "f1_score on train of LogisticRegres: 1.0\n",
      "\n",
      "f1_score on validation of LogisticRegres: 0.9641025641025641\n"
     ]
    },
    {
     "name": "stderr",
     "output_type": "stream",
     "text": [
      "\n"
     ]
    },
    {
     "data": {
      "text/plain": [
       "(     LogisticRegres\n",
       " 0                 0\n",
       " 1                 0\n",
       " 2                 0\n",
       " 3                 1\n",
       " 4                 0\n",
       " ..              ...\n",
       " 109               0\n",
       " 110               0\n",
       " 111               0\n",
       " 112               1\n",
       " 113               0\n",
       " \n",
       " [114 rows x 1 columns],\n",
       " {'f1_score': 0.9641025641025641,\n",
       "  'kappa': 0.9282899921197794,\n",
       "  'Precision': 1.0,\n",
       "  'Recall': 0.9117647058823529,\n",
       "  'Confusion matrix': array([[57,  0],\n",
       "         [ 3, 31]], dtype=int64)})"
      ]
     },
     "execution_count": 29,
     "metadata": {},
     "output_type": "execute_result"
    }
   ],
   "source": [
    "ml.train_stack_model(model_list, X_train_s_mm, y_train_s, X_test_mm, y_test, test_mm)"
   ]
  },
  {
   "cell_type": "code",
   "execution_count": null,
   "id": "f2551621",
   "metadata": {},
   "outputs": [],
   "source": [
    "from sklearn.model_selection import RandomizedSearchCV"
   ]
  },
  {
   "cell_type": "code",
   "execution_count": null,
   "id": "47894b23",
   "metadata": {},
   "outputs": [],
   "source": [
    "max_iters = [int(x) in np.linespace(400, 4000, 10)]\n",
    "\n",
    "penalty = {‘l1’, ‘l2’, ‘elasticnet’, ‘none’}\n",
    "\n"
   ]
  },
  {
   "cell_type": "code",
   "execution_count": null,
   "id": "e5d5b835",
   "metadata": {},
   "outputs": [],
   "source": [
    "n_estimators=[int(x) for x in np.linspace(200, 2000, 10)]\n",
    "\n",
    "criterion = ['gini', 'entropy']\n",
    "\n",
    "max_depth = [int(x) for x in np.linspace(10, 200, 10)]\n",
    "\n",
    "min_samples_split = [int(x) for x in np.linspace(2, 10, 1)]\n",
    "\n",
    "min_samples_leaf = [int(x) for x in np.linspace(1, 10, 1)]\n",
    "\n",
    "max_features = ['auto', 'sqrt', 'log2']\n",
    "\n",
    "bootstrap = [True, False]\n",
    "\n",
    "warm_start = [True, False]"
   ]
  },
  {
   "cell_type": "code",
   "execution_count": null,
   "id": "bd7afeb7",
   "metadata": {},
   "outputs": [],
   "source": [
    "random_grid={'n_estimators': n_estimators,\n",
    "             'criterion': criterion,\n",
    "             'max_depth': max_depth,\n",
    "             'min_samples_split': min_samples_split,\n",
    "             'min_samples_leaf': min_samples_leaf,\n",
    "             'max_features': max_features,\n",
    "             'bootstrap': bootstrap,\n",
    "             'warm_start': warm_start,\n",
    "             }"
   ]
  },
  {
   "cell_type": "code",
   "execution_count": null,
   "id": "6331497f",
   "metadata": {},
   "outputs": [],
   "source": [
    "rf_random=RandomizedSearchCV(estimator=rf,\n",
    "                             param_distributions=random_grid,\n",
    "                             n_iter=100,\n",
    "                             cv=5,\n",
    "                             verbose=10,\n",
    "                             n_jobs=-1,\n",
    "                             scoring=make_scorer(f1_score, average='macro'))"
   ]
  },
  {
   "cell_type": "code",
   "execution_count": null,
   "id": "f4de6ac2",
   "metadata": {},
   "outputs": [],
   "source": [
    "rf_random.fit(preds_train, y_train_s)\n",
    "rf_random_preds = rf_random.predict(preds_train)\n",
    "f1_score_rf_random = f1_score(y_train_s, rf_random_preds, average='macro')\n",
    "rf_random_preds_test = rf_random.predict(preds_test)\n",
    "f1_score_rf_random_test = f1_score(y_test, rf_random_preds_test, average='macro')\n",
    "\n",
    "print(f'f1_train: {f1_score_rf_random}, f1_test: {f1_score_rf_random_test}')"
   ]
  },
  {
   "cell_type": "code",
   "execution_count": null,
   "id": "e253b6fe",
   "metadata": {},
   "outputs": [],
   "source": []
  }
 ],
 "metadata": {
  "kernelspec": {
   "display_name": "IronHack",
   "language": "python",
   "name": "ironhack"
  },
  "language_info": {
   "codemirror_mode": {
    "name": "ipython",
    "version": 3
   },
   "file_extension": ".py",
   "mimetype": "text/x-python",
   "name": "python",
   "nbconvert_exporter": "python",
   "pygments_lexer": "ipython3",
   "version": "3.9.12"
  }
 },
 "nbformat": 4,
 "nbformat_minor": 5
}
